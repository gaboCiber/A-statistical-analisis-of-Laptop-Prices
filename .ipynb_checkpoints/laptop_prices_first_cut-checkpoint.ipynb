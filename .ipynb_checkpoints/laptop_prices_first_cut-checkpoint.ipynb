{
 "cells": [
  {
   "cell_type": "markdown",
   "metadata": {},
   "source": [
    "# Primer corte del proyecto final de Estadística\n",
    "\n",
    "### Tema de la BD: \n",
    "Precio de las Laptop. Los datos fueron obtenidos a traves del siguiente enlace: (https://www.kaggle.com/datasets/abdocan/laptop-prices)\n",
    "\n",
    "### Integrantes:\n",
    "- Carlos Daniel Largacha Leal  C312\n",
    "- Gabriel Andrés Pla Lasa  C311"
   ]
  },
  {
   "cell_type": "markdown",
   "metadata": {},
   "source": [
    "## Importación de las librerías necesarias"
   ]
  },
  {
   "cell_type": "code",
   "execution_count": 1,
   "metadata": {},
   "outputs": [],
   "source": [
    "import pandas as pd\n",
    "import numpy as np\n",
    "import seaborn as sns\n",
    "import matplotlib.pyplot as plt\n",
    "from scipy import stats as st"
   ]
  },
  {
   "cell_type": "markdown",
   "metadata": {},
   "source": [
    "## 1. Carga de datos"
   ]
  },
  {
   "cell_type": "code",
   "execution_count": 2,
   "metadata": {},
   "outputs": [],
   "source": [
    "df = pd.read_csv('laptop_prices.csv')"
   ]
  },
  {
   "cell_type": "markdown",
   "metadata": {},
   "source": [
    "## 2. Análisis descriptivo de los datos"
   ]
  },
  {
   "cell_type": "markdown",
   "metadata": {},
   "source": [
    "#### 2.1 Infomacion general del dataset"
   ]
  },
  {
   "cell_type": "code",
   "execution_count": 9,
   "metadata": {},
   "outputs": [
    {
     "name": "stdout",
     "output_type": "stream",
     "text": [
      "<class 'pandas.core.frame.DataFrame'>\n",
      "RangeIndex: 1275 entries, 0 to 1274\n",
      "Data columns (total 23 columns):\n",
      " #   Column                Non-Null Count  Dtype  \n",
      "---  ------                --------------  -----  \n",
      " 0   Company               1275 non-null   object \n",
      " 1   Product               1275 non-null   object \n",
      " 2   TypeName              1275 non-null   object \n",
      " 3   Inches                1275 non-null   float64\n",
      " 4   Ram                   1275 non-null   int64  \n",
      " 5   OS                    1275 non-null   object \n",
      " 6   Weight                1275 non-null   float64\n",
      " 7   Price_euros           1275 non-null   float64\n",
      " 8   Screen                1275 non-null   object \n",
      " 9   ScreenW               1275 non-null   int64  \n",
      " 10  ScreenH               1275 non-null   int64  \n",
      " 11  Touchscreen           1275 non-null   object \n",
      " 12  IPSpanel              1275 non-null   object \n",
      " 13  RetinaDisplay         1275 non-null   object \n",
      " 14  CPU_company           1275 non-null   object \n",
      " 15  CPU_freq              1275 non-null   float64\n",
      " 16  CPU_model             1275 non-null   object \n",
      " 17  PrimaryStorage        1275 non-null   int64  \n",
      " 18  SecondaryStorage      1275 non-null   int64  \n",
      " 19  PrimaryStorageType    1275 non-null   object \n",
      " 20  SecondaryStorageType  1275 non-null   object \n",
      " 21  GPU_company           1275 non-null   object \n",
      " 22  GPU_model             1275 non-null   object \n",
      "dtypes: float64(4), int64(5), object(14)\n",
      "memory usage: 229.2+ KB\n"
     ]
    }
   ],
   "source": [
    "df.info()"
   ]
  },
  {
   "cell_type": "markdown",
   "metadata": {},
   "source": [
    "#### 2.2 Primeras filas del dataset"
   ]
  },
  {
   "cell_type": "code",
   "execution_count": 11,
   "metadata": {},
   "outputs": [
    {
     "name": "stdout",
     "output_type": "stream",
     "text": [
      "  Company      Product   TypeName  Inches  Ram     OS  Weight  Price_euros  \\\n",
      "0   Apple  MacBook Pro  Ultrabook    13.3    8  macOS    1.37      1339.69   \n",
      "1   Apple  Macbook Air  Ultrabook    13.3    8  macOS    1.34       898.94   \n",
      "2      HP       250 G6   Notebook    15.6    8  No OS    1.86       575.00   \n",
      "3   Apple  MacBook Pro  Ultrabook    15.4   16  macOS    1.83      2537.45   \n",
      "4   Apple  MacBook Pro  Ultrabook    13.3    8  macOS    1.37      1803.60   \n",
      "\n",
      "     Screen  ScreenW  ...  RetinaDisplay CPU_company CPU_freq      CPU_model  \\\n",
      "0  Standard     2560  ...            Yes       Intel      2.3        Core i5   \n",
      "1  Standard     1440  ...             No       Intel      1.8        Core i5   \n",
      "2   Full HD     1920  ...             No       Intel      2.5  Core i5 7200U   \n",
      "3  Standard     2880  ...            Yes       Intel      2.7        Core i7   \n",
      "4  Standard     2560  ...            Yes       Intel      3.1        Core i5   \n",
      "\n",
      "  PrimaryStorage  SecondaryStorage PrimaryStorageType  SecondaryStorageType  \\\n",
      "0            128                 0                SSD                    No   \n",
      "1            128                 0      Flash Storage                    No   \n",
      "2            256                 0                SSD                    No   \n",
      "3            512                 0                SSD                    No   \n",
      "4            256                 0                SSD                    No   \n",
      "\n",
      "   GPU_company               GPU_model  \n",
      "0        Intel  Iris Plus Graphics 640  \n",
      "1        Intel        HD Graphics 6000  \n",
      "2        Intel         HD Graphics 620  \n",
      "3          AMD          Radeon Pro 455  \n",
      "4        Intel  Iris Plus Graphics 650  \n",
      "\n",
      "[5 rows x 23 columns]\n"
     ]
    }
   ],
   "source": [
    "print(df.head())"
   ]
  },
  {
   "cell_type": "code",
   "execution_count": null,
   "metadata": {},
   "outputs": [],
   "source": []
  }
 ],
 "metadata": {
  "kernelspec": {
   "display_name": "Python 3",
   "language": "python",
   "name": "python3"
  },
  "language_info": {
   "codemirror_mode": {
    "name": "ipython",
    "version": 3
   },
   "file_extension": ".py",
   "mimetype": "text/x-python",
   "name": "python",
   "nbconvert_exporter": "python",
   "pygments_lexer": "ipython3",
   "version": "3.10.12"
  }
 },
 "nbformat": 4,
 "nbformat_minor": 2
}
